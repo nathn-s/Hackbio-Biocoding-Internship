#python
team_phenylalanine = {
    "Natt": {
        "Name": "Nathini (Natt) Sion",
        "Slack use": "Natt",
        "Email": "im.nathn@gmail.com",
        "Hobby": "Read manga",
        "Country": "Australia",
        "Discipline": "Biotechnology",
        "Programming language": "Python"
    },
    "Teodora": {
        "Name": "Teodora Despotovski",
        "Slack": "Teodora",
        "Email": "teodoradespotovski@gmail.com",
        "Hobby": "Cooking",
        "Country": "Serbia",
        "Discipline": "Biochemistry",
        "Programming language": "Python"
    },
    "Bilal": {
        "Name": "Bilal Ashraf",
        "Slack": "bilal ashraf",
        "Email": "eclecticbilalashraf@gmail.com",
        "Hobby": "Mixed Martial Arts",
        "Country": "Germany",
        "Discipline": "Bioinformatics",
        "Programming language": "Python"
    },
    "Alvin": {
        "Name": "Alvin Obande",
        "Slack": "Alvin",
        "Email": "alvinobande123@gmail.com",
        "Hobby": "Music",
        "Country": "Nigeria",
        "Discipline": "Medical Biotechnology",
        "Programming language": "Python"
    },
    "Tanson": {
        "Name": "Tanson Senyo Kelvin",
        "Slack": "K.Tanson",
        "Email": "Kelvins.tanson@gmail.com",
        "Hobby": "Graphic Design",
        "Country": "Ghana",
        "Discipline": "Medical Biotechnology and Molecular Biology",
        "Programming language": "R"
    }
}

# Final Print Statement
print("Team Phenylalanine Information:\n")

print(f"Natt: {team_phenylalanine['Natt']}\n")
print(f"Teodora: {team_phenylalanine['Teodora']}\n")
print(f"Bilal: {team_phenylalanine['Bilal']}\n")
print(f"Alvin: {team_phenylalanine['Alvin']}\n")
print(f"Tanson: {team_phenylalanine['Tanson']}\n")
